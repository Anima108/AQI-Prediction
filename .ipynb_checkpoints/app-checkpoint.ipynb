{
 "cells": [
  {
   "cell_type": "code",
   "execution_count": 2,
   "metadata": {},
   "outputs": [],
   "source": [
    "from flask import Flask, render_template, request"
   ]
  },
  {
   "cell_type": "code",
   "execution_count": 3,
   "metadata": {},
   "outputs": [],
   "source": [
    "import pickle"
   ]
  },
  {
   "cell_type": "code",
   "execution_count": 4,
   "metadata": {},
   "outputs": [],
   "source": [
    "import numpy as mp"
   ]
  },
  {
   "cell_type": "code",
   "execution_count": 5,
   "metadata": {},
   "outputs": [],
   "source": [
    "app = Flask(__name__)\n"
   ]
  },
  {
   "cell_type": "code",
   "execution_count": 6,
   "metadata": {},
   "outputs": [],
   "source": [
    "model=pickle.load(open('model_lr','rb'))"
   ]
  },
  {
   "cell_type": "code",
   "execution_count": 7,
   "metadata": {},
   "outputs": [],
   "source": [
    "@app.route('/')\n",
    "def hello_world():\n",
    "    render_template('AQI.html')"
   ]
  },
  {
   "cell_type": "code",
   "execution_count": 8,
   "metadata": {},
   "outputs": [],
   "source": [
    "def hypothesis(x,theta):\n",
    "    y_=0.0 #(y hat)\n",
    "    n=x.shape[0]\n",
    "    for i in range(n):\n",
    "        y_+=(theta[i]*x[i])\n",
    "    return y_"
   ]
  },
  {
   "cell_type": "code",
   "execution_count": 9,
   "metadata": {},
   "outputs": [],
   "source": [
    "@app.route('/predict', methods=['POST','GET'])\n",
    "\n",
    "\n",
    "def predict():\n",
    "    print(request.form)\n",
    "    int_features=[str(x) for x in request.form.values()]\n",
    "    req_model=int_features[12]\n",
    "    final[0]=1\n",
    "    for x in range (1,11):\n",
    "        final[x]=float(int_features[x-1])\n",
    "    #final=np.array(features)\n",
    "    #print(features)\n",
    "    #print(final)\n",
    "    \n",
    "    theta, error_list=model\n",
    "    arr = np.array(final)\n",
    "    prediction=hypothesis(arr,theta)\n",
    "    print(prediction)\n",
    "    \n",
    "    return render_template('AQI.html',pred = 'Pedicted AQI - {}'.format(prediction))"
   ]
  },
  {
   "cell_type": "code",
   "execution_count": null,
   "metadata": {},
   "outputs": [
    {
     "name": "stdout",
     "output_type": "stream",
     "text": [
      " * Serving Flask app \"__main__\" (lazy loading)\n",
      " * Environment: production\n",
      "   WARNING: This is a development server. Do not use it in a production deployment.\n",
      "   Use a production WSGI server instead.\n",
      " * Debug mode: off\n"
     ]
    },
    {
     "name": "stderr",
     "output_type": "stream",
     "text": [
      " * Running on http://127.0.0.1:5000/ (Press CTRL+C to quit)\n",
      "[2020-11-10 16:12:33,563] ERROR in app: Exception on / [GET]\n",
      "Traceback (most recent call last):\n",
      "  File \"c:\\users\\akanksha tanwar\\appdata\\local\\programs\\python\\python38-32\\lib\\site-packages\\flask\\app.py\", line 2447, in wsgi_app\n",
      "    response = self.full_dispatch_request()\n",
      "  File \"c:\\users\\akanksha tanwar\\appdata\\local\\programs\\python\\python38-32\\lib\\site-packages\\flask\\app.py\", line 1952, in full_dispatch_request\n",
      "    rv = self.handle_user_exception(e)\n",
      "  File \"c:\\users\\akanksha tanwar\\appdata\\local\\programs\\python\\python38-32\\lib\\site-packages\\flask\\app.py\", line 1821, in handle_user_exception\n",
      "    reraise(exc_type, exc_value, tb)\n",
      "  File \"c:\\users\\akanksha tanwar\\appdata\\local\\programs\\python\\python38-32\\lib\\site-packages\\flask\\_compat.py\", line 39, in reraise\n",
      "    raise value\n",
      "  File \"c:\\users\\akanksha tanwar\\appdata\\local\\programs\\python\\python38-32\\lib\\site-packages\\flask\\app.py\", line 1950, in full_dispatch_request\n",
      "    rv = self.dispatch_request()\n",
      "  File \"c:\\users\\akanksha tanwar\\appdata\\local\\programs\\python\\python38-32\\lib\\site-packages\\flask\\app.py\", line 1936, in dispatch_request\n",
      "    return self.view_functions[rule.endpoint](**req.view_args)\n",
      "  File \"<ipython-input-7-60016d4f0b70>\", line 3, in hello_world\n",
      "    render_template('AQI.html')\n",
      "  File \"c:\\users\\akanksha tanwar\\appdata\\local\\programs\\python\\python38-32\\lib\\site-packages\\flask\\templating.py\", line 138, in render_template\n",
      "    ctx.app.jinja_env.get_or_select_template(template_name_or_list),\n",
      "  File \"c:\\users\\akanksha tanwar\\appdata\\local\\programs\\python\\python38-32\\lib\\site-packages\\jinja2\\environment.py\", line 930, in get_or_select_template\n",
      "    return self.get_template(template_name_or_list, parent, globals)\n",
      "  File \"c:\\users\\akanksha tanwar\\appdata\\local\\programs\\python\\python38-32\\lib\\site-packages\\jinja2\\environment.py\", line 883, in get_template\n",
      "    return self._load_template(name, self.make_globals(globals))\n",
      "  File \"c:\\users\\akanksha tanwar\\appdata\\local\\programs\\python\\python38-32\\lib\\site-packages\\jinja2\\environment.py\", line 857, in _load_template\n",
      "    template = self.loader.load(self, name, globals)\n",
      "  File \"c:\\users\\akanksha tanwar\\appdata\\local\\programs\\python\\python38-32\\lib\\site-packages\\jinja2\\loaders.py\", line 115, in load\n",
      "    source, filename, uptodate = self.get_source(environment, name)\n",
      "  File \"c:\\users\\akanksha tanwar\\appdata\\local\\programs\\python\\python38-32\\lib\\site-packages\\flask\\templating.py\", line 60, in get_source\n",
      "    return self._get_source_fast(environment, template)\n",
      "  File \"c:\\users\\akanksha tanwar\\appdata\\local\\programs\\python\\python38-32\\lib\\site-packages\\flask\\templating.py\", line 89, in _get_source_fast\n",
      "    raise TemplateNotFound(template)\n",
      "jinja2.exceptions.TemplateNotFound: AQI.html\n",
      "127.0.0.1 - - [10/Nov/2020 16:12:33] \"\u001b[35m\u001b[1mGET / HTTP/1.1\u001b[0m\" 500 -\n",
      "127.0.0.1 - - [10/Nov/2020 16:12:33] \"\u001b[33mGET /favicon.ico HTTP/1.1\u001b[0m\" 404 -\n",
      "[2020-11-10 16:12:57,835] ERROR in app: Exception on / [GET]\n",
      "Traceback (most recent call last):\n",
      "  File \"c:\\users\\akanksha tanwar\\appdata\\local\\programs\\python\\python38-32\\lib\\site-packages\\flask\\app.py\", line 2447, in wsgi_app\n",
      "    response = self.full_dispatch_request()\n",
      "  File \"c:\\users\\akanksha tanwar\\appdata\\local\\programs\\python\\python38-32\\lib\\site-packages\\flask\\app.py\", line 1952, in full_dispatch_request\n",
      "    rv = self.handle_user_exception(e)\n",
      "  File \"c:\\users\\akanksha tanwar\\appdata\\local\\programs\\python\\python38-32\\lib\\site-packages\\flask\\app.py\", line 1821, in handle_user_exception\n",
      "    reraise(exc_type, exc_value, tb)\n",
      "  File \"c:\\users\\akanksha tanwar\\appdata\\local\\programs\\python\\python38-32\\lib\\site-packages\\flask\\_compat.py\", line 39, in reraise\n",
      "    raise value\n",
      "  File \"c:\\users\\akanksha tanwar\\appdata\\local\\programs\\python\\python38-32\\lib\\site-packages\\flask\\app.py\", line 1950, in full_dispatch_request\n",
      "    rv = self.dispatch_request()\n",
      "  File \"c:\\users\\akanksha tanwar\\appdata\\local\\programs\\python\\python38-32\\lib\\site-packages\\flask\\app.py\", line 1936, in dispatch_request\n",
      "    return self.view_functions[rule.endpoint](**req.view_args)\n",
      "  File \"<ipython-input-7-60016d4f0b70>\", line 3, in hello_world\n",
      "    render_template('AQI.html')\n",
      "  File \"c:\\users\\akanksha tanwar\\appdata\\local\\programs\\python\\python38-32\\lib\\site-packages\\flask\\templating.py\", line 138, in render_template\n",
      "    ctx.app.jinja_env.get_or_select_template(template_name_or_list),\n",
      "  File \"c:\\users\\akanksha tanwar\\appdata\\local\\programs\\python\\python38-32\\lib\\site-packages\\jinja2\\environment.py\", line 930, in get_or_select_template\n",
      "    return self.get_template(template_name_or_list, parent, globals)\n",
      "  File \"c:\\users\\akanksha tanwar\\appdata\\local\\programs\\python\\python38-32\\lib\\site-packages\\jinja2\\environment.py\", line 883, in get_template\n",
      "    return self._load_template(name, self.make_globals(globals))\n",
      "  File \"c:\\users\\akanksha tanwar\\appdata\\local\\programs\\python\\python38-32\\lib\\site-packages\\jinja2\\environment.py\", line 857, in _load_template\n",
      "    template = self.loader.load(self, name, globals)\n",
      "  File \"c:\\users\\akanksha tanwar\\appdata\\local\\programs\\python\\python38-32\\lib\\site-packages\\jinja2\\loaders.py\", line 115, in load\n",
      "    source, filename, uptodate = self.get_source(environment, name)\n",
      "  File \"c:\\users\\akanksha tanwar\\appdata\\local\\programs\\python\\python38-32\\lib\\site-packages\\flask\\templating.py\", line 60, in get_source\n",
      "    return self._get_source_fast(environment, template)\n",
      "  File \"c:\\users\\akanksha tanwar\\appdata\\local\\programs\\python\\python38-32\\lib\\site-packages\\flask\\templating.py\", line 89, in _get_source_fast\n",
      "    raise TemplateNotFound(template)\n",
      "jinja2.exceptions.TemplateNotFound: AQI.html\n",
      "127.0.0.1 - - [10/Nov/2020 16:12:57] \"\u001b[35m\u001b[1mGET / HTTP/1.1\u001b[0m\" 500 -\n"
     ]
    }
   ],
   "source": [
    "if __name__ == \"__main__\":\n",
    "    app.run()"
   ]
  },
  {
   "cell_type": "code",
   "execution_count": null,
   "metadata": {},
   "outputs": [],
   "source": []
  }
 ],
 "metadata": {
  "kernelspec": {
   "display_name": "Python 3",
   "language": "python",
   "name": "python3"
  }
 },
 "nbformat": 4,
 "nbformat_minor": 2
}
